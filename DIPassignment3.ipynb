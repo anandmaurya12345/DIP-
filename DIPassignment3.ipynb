{
  "nbformat": 4,
  "nbformat_minor": 0,
  "metadata": {
    "colab": {
      "name": "DIPassignment3.ipynb",
      "private_outputs": true,
      "provenance": []
    },
    "kernelspec": {
      "name": "python3",
      "display_name": "Python 3"
    },
    "language_info": {
      "name": "python"
    }
  },
  "cells": [
    {
      "cell_type": "code",
      "execution_count": null,
      "metadata": {
        "id": "1_s5t5hbOZoE"
      },
      "outputs": [],
      "source": [
        "from PIL import Image, ImageDraw\n",
        "import matplotlib.pyplot as plt\n",
        "\n",
        "import numpy as np\n",
        "import matplotlib.pyplot as plt"
      ]
    },
    {
      "cell_type": "code",
      "source": [
        "circleImage = Image.new(mode= 'L', size=(200, 200), color = 0)\n",
        "circle = ImageDraw.Draw(circleImage)\n",
        "circle.ellipse([(40, 40), (160, 160)], fill = 'white', outline='white')"
      ],
      "metadata": {
        "id": "RVRrHhyPOfHj"
      },
      "execution_count": null,
      "outputs": []
    },
    {
      "cell_type": "code",
      "source": [
        "plt.imshow(circleImage, cmap = 'gray')"
      ],
      "metadata": {
        "id": "tJc9HQe8OhFn"
      },
      "execution_count": null,
      "outputs": []
    },
    {
      "cell_type": "code",
      "source": [
        "rectangleImage = Image.new(mode= 'L', size=(200, 200), color = 0)\n",
        "rectangle = ImageDraw.Draw(rectangleImage)\n",
        "rectangle.rectangle([(30,50), (170,150)], fill = 'white', outline= 'white')"
      ],
      "metadata": {
        "id": "rNsUYfsbOkP0"
      },
      "execution_count": null,
      "outputs": []
    },
    {
      "cell_type": "code",
      "source": [
        "plt.imshow(rectangleImage, cmap='gray')"
      ],
      "metadata": {
        "id": "x1Vz-4jTOkSS"
      },
      "execution_count": null,
      "outputs": []
    },
    {
      "cell_type": "code",
      "source": [
        "circleImage = np.asarray(circleImage)\n",
        "rectangleImage = np.asarray(rectangleImage)"
      ],
      "metadata": {
        "id": "MFOW8KGOOkUu"
      },
      "execution_count": null,
      "outputs": []
    },
    {
      "cell_type": "code",
      "source": [
        "# AND gate\n",
        "and_img = np.zeros((200, 200))\n",
        "for i in range(200):\n",
        "    for j in range(200):\n",
        "        if(circleImage[i,j] == 255 and rectangleImage[i,j] == 255):\n",
        "            and_img[i,j] = 255\n",
        "\n",
        "plt.imshow(and_img, cmap='gray')"
      ],
      "metadata": {
        "id": "-j_6tF9xOkXE"
      },
      "execution_count": null,
      "outputs": []
    },
    {
      "cell_type": "code",
      "source": [
        "# OR gate\n",
        "orectangleImage = np.zeros((200, 200))\n",
        "for i in range(200):\n",
        "    for j in range(200):\n",
        "        if(circleImage[i,j] == 255 or rectangleImage[i,j] == 255):\n",
        "            orectangleImage[i,j] = 255\n",
        "\n",
        "plt.imshow(orectangleImage, cmap='gray')"
      ],
      "metadata": {
        "id": "V0TiD4vLOkY8"
      },
      "execution_count": null,
      "outputs": []
    },
    {
      "cell_type": "code",
      "source": [
        "#NAND Gate\n",
        "nand_img = np.zeros((200, 200))\n",
        "for i in range(200):\n",
        "    for j in range(200):\n",
        "        if(not(circleImage[i,j] == 255 and rectangleImage[i,j] == 255)):\n",
        "            nand_img[i,j] = 255\n",
        "\n",
        "plt.imshow(nand_img, cmap='gray')"
      ],
      "metadata": {
        "id": "C1MxcDX_OkcU"
      },
      "execution_count": null,
      "outputs": []
    },
    {
      "cell_type": "code",
      "source": [
        "# NOR gate\n",
        "norectangleImage = np.zeros((200, 200))\n",
        "for i in range(200):\n",
        "    for j in range(200):\n",
        "        if(not(circleImage[i,j] == 255 or rectangleImage[i,j] == 255)):\n",
        "            norectangleImage[i,j] = 255\n",
        "\n",
        "plt.imshow(norectangleImage, cmap='gray')"
      ],
      "metadata": {
        "id": "rJ7SJ48oOvtX"
      },
      "execution_count": null,
      "outputs": []
    },
    {
      "cell_type": "code",
      "source": [
        "#NOT gate\n",
        "not_img = np.zeros((200, 200))\n",
        "for i in range(200):\n",
        "    for j in range(200):\n",
        "        if(not_img[i,j] == 0):\n",
        "            not_img[i,j] = 255\n",
        "\n",
        "plt.imshow(not_img, cmap='gray')"
      ],
      "metadata": {
        "id": "3-0G1f7sOz8_"
      },
      "execution_count": null,
      "outputs": []
    },
    {
      "cell_type": "code",
      "source": [
        "# XOR gate\n",
        "xorectangleImage = np.zeros((200, 200))\n",
        "for i in range(200):\n",
        "    for j in range(200):\n",
        "        if(circleImage[i,j] != rectangleImage[i,j]):\n",
        "            xorectangleImage[i,j] = 255\n",
        "\n",
        "plt.imshow(xorectangleImage, cmap='gray')"
      ],
      "metadata": {
        "id": "q_WnMS6cOz_d"
      },
      "execution_count": null,
      "outputs": []
    },
    {
      "cell_type": "code",
      "source": [
        ""
      ],
      "metadata": {
        "id": "vHb752ojOvwz"
      },
      "execution_count": null,
      "outputs": []
    }
  ]
}