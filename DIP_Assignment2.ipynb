{
  "nbformat": 4,
  "nbformat_minor": 0,
  "metadata": {
    "colab": {
      "name": "DIP_Assignment2.ipynb",
      "private_outputs": true,
      "provenance": [],
      "collapsed_sections": []
    },
    "kernelspec": {
      "name": "python3",
      "display_name": "Python 3"
    },
    "language_info": {
      "name": "python"
    }
  },
  "cells": [
    {
      "cell_type": "code",
      "execution_count": null,
      "metadata": {
        "id": "ifsG8lV9K0HG"
      },
      "outputs": [],
      "source": [
        "import cv2\n",
        "import numpy as np\n",
        "import matplotlib.pyplot as plt"
      ]
    },
    {
      "cell_type": "code",
      "source": [
        "img = cv2.imread(\"/content/PROFILE.jpeg\")\n",
        "img = cv2.cvtColor(img, cv2.COLOR_BGR2RGB)"
      ],
      "metadata": {
        "id": "NNxu1CmgK4sD"
      },
      "execution_count": null,
      "outputs": []
    },
    {
      "cell_type": "code",
      "source": [
        "\n",
        "plt.imshow(img)"
      ],
      "metadata": {
        "id": "-Izq4bCOK8No"
      },
      "execution_count": null,
      "outputs": []
    },
    {
      "cell_type": "code",
      "source": [
        "grayimg = 0.2989*img[:,:,0] + 0.5870*img[:,:,1] + 0.1140*img[:,:,2]\n",
        "plt.imshow(grayimg, cmap='gray')"
      ],
      "metadata": {
        "id": "Ap2Mxn9PK_gp"
      },
      "execution_count": null,
      "outputs": []
    },
    {
      "cell_type": "code",
      "source": [
        "threshold = 127\n",
        "grayimg_new = np.zeros((img.shape[0], img.shape[1]))"
      ],
      "metadata": {
        "id": "dbS5C3a-LCZ9"
      },
      "execution_count": null,
      "outputs": []
    },
    {
      "cell_type": "code",
      "source": [
        "for i in range(len(grayimg)):\n",
        "    for j in range(len(grayimg[i])):\n",
        "        if(grayimg[i,j] < threshold):\n",
        "            grayimg_new[i,j] = 0\n",
        "        else:\n",
        "            grayimg_new[i,j] = gray[i,j]"
      ],
      "metadata": {
        "id": "9XHSZOzWLFwI"
      },
      "execution_count": null,
      "outputs": []
    },
    {
      "cell_type": "code",
      "source": [
        "plt.imshow(grayimg_new, cmap='gray')"
      ],
      "metadata": {
        "id": "TCt1QUKkLGcO"
      },
      "execution_count": null,
      "outputs": []
    },
    {
      "cell_type": "code",
      "source": [
        "sub_gray = gray - gray_new"
      ],
      "metadata": {
        "id": "6_61_425LIYr"
      },
      "execution_count": null,
      "outputs": []
    },
    {
      "cell_type": "code",
      "source": [
        "plt.imshow(sub_gray, cmap='gray')\n"
      ],
      "metadata": {
        "id": "0a0bjfbZLKph"
      },
      "execution_count": null,
      "outputs": []
    },
    {
      "cell_type": "code",
      "source": [
        ""
      ],
      "metadata": {
        "id": "IKO7pkp5Loiu"
      },
      "execution_count": null,
      "outputs": []
    }
  ]
}