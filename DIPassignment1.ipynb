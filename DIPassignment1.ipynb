{
  "nbformat": 4,
  "nbformat_minor": 0,
  "metadata": {
    "colab": {
      "name": "DIPassignment1.ipynb",
      "private_outputs": true,
      "provenance": []
    },
    "kernelspec": {
      "name": "python3",
      "display_name": "Python 3"
    },
    "language_info": {
      "name": "python"
    }
  },
  "cells": [
    {
      "cell_type": "code",
      "execution_count": null,
      "metadata": {
        "id": "2b8CB7XCMYkE"
      },
      "outputs": [],
      "source": [
        "import cv2\n",
        "import numpy as np\n",
        "import matplotlib.pyplot as plt"
      ]
    },
    {
      "cell_type": "code",
      "source": [
        "img = cv2.imread(\"/content/PROFILE.jpeg\")\n",
        "img = cv2.cvtColor(img, cv2.COLOR_BGR2RGB)"
      ],
      "metadata": {
        "id": "uTEaziSIMnOr"
      },
      "execution_count": null,
      "outputs": []
    },
    {
      "cell_type": "code",
      "source": [
        "plt.imshow(img)"
      ],
      "metadata": {
        "id": "o8ukqookMnRt"
      },
      "execution_count": null,
      "outputs": []
    },
    {
      "cell_type": "code",
      "source": [
        "gray = 0.2989*img[:,:,0] + 0.5870*img[:,:,1] + 0.1140*img[:,:,2]"
      ],
      "metadata": {
        "id": "nZ3Wm2VCMnTs"
      },
      "execution_count": null,
      "outputs": []
    },
    {
      "cell_type": "code",
      "source": [
        "plt.imshow(gray, cmap='gray')"
      ],
      "metadata": {
        "id": "Zpz0mkDFMnVt"
      },
      "execution_count": null,
      "outputs": []
    },
    {
      "cell_type": "code",
      "source": [
        "threshold = 105\n",
        "flag = np.zeros((img.shape[0], img.shape[1]))"
      ],
      "metadata": {
        "id": "WM2szizNMnZN"
      },
      "execution_count": null,
      "outputs": []
    },
    {
      "cell_type": "code",
      "source": [
        "for i in range(len(gray)):\n",
        "    for j in range(len(gray[i])):\n",
        "        if(gray[i,j] > threshold):\n",
        "            bin[i,j] = 1"
      ],
      "metadata": {
        "id": "5nor2WI0Mnp3"
      },
      "execution_count": null,
      "outputs": []
    },
    {
      "cell_type": "code",
      "source": [
        "plt.imshow(flag, cmap='binary')"
      ],
      "metadata": {
        "id": "_URwUNUCMnsc"
      },
      "execution_count": null,
      "outputs": []
    },
    {
      "cell_type": "code",
      "source": [
        "flag_gray = flag + gray"
      ],
      "metadata": {
        "id": "UacP5JxSNMML"
      },
      "execution_count": null,
      "outputs": []
    },
    {
      "cell_type": "code",
      "source": [
        "plt.imshow(flag_gray, cmap='gray')"
      ],
      "metadata": {
        "id": "y2TB5KjvNOpK"
      },
      "execution_count": null,
      "outputs": []
    },
    {
      "cell_type": "code",
      "source": [
        "gray_new = gray + 20"
      ],
      "metadata": {
        "id": "CIDF_BV5NRPO"
      },
      "execution_count": null,
      "outputs": []
    },
    {
      "cell_type": "code",
      "source": [
        "plt.imshow(gray_new, cmap='gray')"
      ],
      "metadata": {
        "id": "ZgSIquP4NRSp"
      },
      "execution_count": null,
      "outputs": []
    },
    {
      "cell_type": "code",
      "source": [
        ""
      ],
      "metadata": {
        "id": "pB2hM-B2NWkY"
      },
      "execution_count": null,
      "outputs": []
    }
  ]
}